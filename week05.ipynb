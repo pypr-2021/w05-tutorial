{
 "cells": [
  {
   "cell_type": "markdown",
   "metadata": {},
   "source": [
    "# Week 5 worksheet: Better plots, docstrings, and algorithm design\n",
    "\n",
    "In this worksheet, we learn how to customise plots to better convey essential information. We also discuss docstrings in a little more depth. Finally, we introduce recursive functions, and we outline the different steps one should take to design an algorithm to solve a particular problem.\n",
    "\n",
    "The best way to learn programming is to write code. Don't hesitate to edit the code in the example cells, or add your own code, to test your understanding. You will find practice exercises throughout the notebook, denoted by 🚩 ***Exercise $x$:***.\n",
    "\n",
    "#### Displaying solutions\n",
    "\n",
    "Solutions will be released one week after the worksheets are released, as a new `.txt` file in the same GitHub repository. After pulling the file to your workspace (either your computer or your Noteable server), run the following cell to create clickable buttons under each exercise, which will allow you to reveal the solutions."
   ]
  },
  {
   "cell_type": "code",
   "execution_count": null,
   "metadata": {},
   "outputs": [],
   "source": [
    "%run scripts/create_widgets.py week05"
   ]
  },
  {
   "cell_type": "markdown",
   "metadata": {},
   "source": [
    "---\n",
    "## Customising plots\n",
    "\n",
    "### Setting plot axis properties\n",
    "\n",
    "#### Axis limits\n",
    "\n",
    "The axis range on your plots can be controlled using the `.set_xlim()` and `.set_ylim()` methods. For example, the following code plots the function $\\sin \\left( x \\right)$ for $x \\in \\left[ 0, 2 \\pi \\right]$ on the `Axes` object assigned to the variable `my_ax`, and then specifies that the $x$-axis range should be from $0$ to $2 \\pi$, and the $y$-axis range should be from $-1.1$ to $1.1$."
   ]
  },
  {
   "cell_type": "code",
   "execution_count": null,
   "metadata": {
    "scrolled": true
   },
   "outputs": [],
   "source": [
    "import matplotlib.pyplot as plt\n",
    "import numpy as np\n",
    "\n",
    "# Create 100 x-values from 0 to 2*pi\n",
    "x = np.linspace(0, 2*np.pi, 100)\n",
    "\n",
    "# Create the figure and axes\n",
    "my_fig, my_ax = plt.subplots()\n",
    "\n",
    "# Plot sin(x)\n",
    "my_ax.plot(x, np.sin(x), 'k-')\n",
    "\n",
    "# Adjust the x-axis and y-axis limits to tidy up the plot\n",
    "my_ax.set_xlim([0, 2*np.pi])\n",
    "my_ax.set_ylim([-1.1, 1.1])\n",
    "\n",
    "# Show the figure\n",
    "plt.show()"
   ]
  },
  {
   "cell_type": "markdown",
   "metadata": {},
   "source": [
    "#### Axis labels\n",
    "\n",
    "Axis labels can be added using the `.set_xlabel()` and `.set_ylabel()` methods, for example\n",
    "\n",
    "```python\n",
    "ax.set_xlabel('x', fontsize=12)\n",
    "```\n",
    "\n",
    "The label is the first argument, a string. The additional argument, `fontsize=12`, is used to control the font size of the axis label, here setting the font size to $12$pt.  If you wish you can use LaTeX in axis labels via\n",
    "\n",
    "```python\n",
    "ax.set_xlabel(r'$x$', fontsize=12)\n",
    "```\n",
    "\n",
    "where the `r` before the label means \"raw string\"; this allows backslashes in e.g. LaTeX math symbols to be interpreted correctly.\n",
    "\n",
    "> Plots should **always** include appropriate labelling!\n",
    "\n",
    "---\n",
    "🚩 ***Exercise 1:*** Start by pasting your code for Exercise 8 in the Week 4 worksheet, to create the 3 plots again. Use `set_xlim` to control the $x$-axis range for each of the 3 plots, plotting values of $x \\in \\left[-\\pi, \\pi \\right]$.\n",
    "\n",
    "Use `set_xlabel` and `set_ylabel` to add axis labels to the plots, with a font size of $14$pt.\n",
    "\n",
    "*Hints:*\n",
    "* If the plot becomes a little squeezed, you can adjust the *spacing* between the subplots in a figure after you have created them, using the function `plt.subplots_adjust()`, for example\n",
    "```python\n",
    "plt.subplots_adjust(hspace=0.5, wspace=0.5)\n",
    "```\n",
    "where `hspace` (height spacing) and `wspace` (width spacing) should take values between 0 and 1. (See [Matplotlib: subplots_adjust](https://matplotlib.org/api/_as_gen/matplotlib.pyplot.subplots_adjust.html))\n",
    "* Since the axes are indexed by number, you can use a `for` loop to set properties common to all axes."
   ]
  },
  {
   "cell_type": "code",
   "execution_count": null,
   "metadata": {},
   "outputs": [],
   "source": []
  },
  {
   "cell_type": "code",
   "execution_count": null,
   "metadata": {
    "tags": [
     "solution_cell"
    ]
   },
   "outputs": [],
   "source": [
    "%run scripts/show_solutions.py week05_ex1"
   ]
  },
  {
   "cell_type": "markdown",
   "metadata": {},
   "source": [
    "---\n",
    "### Adding a legend\n",
    "\n",
    "Earlier, we have seen how to display multiple lines on the same set of axes. When doing so, it is essential to add a legend to the plot, using **`ax.legend()`**, which labels all curves of the plot in `ax`. The label text should be set **when plotting the curve**, using the `label=` keyword argument of `.plot()`, and can contain LaTeX code.\n",
    "\n",
    "For example, the following code displays a legend on `ax` with the green curve labelled $y_1$ and the yellow curve labelled $y_2$."
   ]
  },
  {
   "cell_type": "code",
   "execution_count": null,
   "metadata": {},
   "outputs": [],
   "source": [
    "# Create an x-axis, and make 2 linear functions of x\n",
    "x = np.linspace(-3, 3, 100)\n",
    "y1 = 3*x - 2\n",
    "y2 = -0.5*x + 1.5\n",
    "\n",
    "# Plot both curves on the same axes\n",
    "fig, ax = plt.subplots()\n",
    "ax.plot(x, y1, 'g-', label=r'$y_1$')\n",
    "ax.plot(x, y2, 'y-', label=r'$y_2$')\n",
    "\n",
    "# .legend() will use the \"label\" arguments for each curve\n",
    "ax.legend(loc='lower right', fontsize=14)\n",
    "\n",
    "plt.show()"
   ]
  },
  {
   "cell_type": "markdown",
   "metadata": {},
   "source": [
    "Note that the **location** can be controlled via an additional keyword argument `loc`, followed by a string indicating the location. Other locations can be chosen, for example you can try changing `'lower right'` to `'upper left'`.\n",
    "\n",
    "The legend font size is also controlled the same way as for axis labels, e.g. here the font size is set to $14$.\n",
    "\n",
    "---\n",
    "**📚 Learn more:**\n",
    "* [Matplotlib: legend](https://matplotlib.org/api/_as_gen/matplotlib.pyplot.legend.html) - Documentation\n",
    "* [Customizing Plot Legends](https://jakevdp.github.io/PythonDataScienceHandbook/04.06-customizing-legends.html) - The Python Data Science Handbook\n",
    "\n",
    "---\n",
    "🚩 ***Exercise 2:*** The Maclaurin series for $\\cos(x)$ is given by\n",
    "\n",
    "$$\n",
    "\\cos(x) = \\sum_{k=0}^{\\infty} (-1)^k \\frac{x^{2k}}{(2k)!}.\n",
    "$$\n",
    "\n",
    "Create a new figure with a single set of axes. Plot $\\cos(x)$ over the interval $[-\\pi, \\pi]$. On the same axes, plot the Maclaurin series truncated to the second, fourth, and sixth order terms, evaluated over the same interval. Set the axis ranges and labels, and add a legend to the plot.\n",
    "\n",
    "*Hint:* you may wish to use the function [`math.factorial()` included with the `math` module](https://docs.python.org/3/library/math.html)."
   ]
  },
  {
   "cell_type": "code",
   "execution_count": null,
   "metadata": {},
   "outputs": [],
   "source": []
  },
  {
   "cell_type": "code",
   "execution_count": null,
   "metadata": {
    "tags": [
     "solution_cell"
    ]
   },
   "outputs": [],
   "source": [
    "%run scripts/show_solutions.py week05_ex2"
   ]
  },
  {
   "cell_type": "markdown",
   "metadata": {},
   "source": [
    "---\n",
    "🚩 ***Exercise 3:*** Reproduce the following figure, as closely as possible. (Note: the triangles are called \"markers\" -- you can search for that in the documentation.)\n",
    "\n",
    "![The figure to reproduce.](graphics/fig.png)"
   ]
  },
  {
   "cell_type": "code",
   "execution_count": null,
   "metadata": {},
   "outputs": [],
   "source": []
  },
  {
   "cell_type": "code",
   "execution_count": null,
   "metadata": {
    "tags": [
     "solution_cell"
    ]
   },
   "outputs": [],
   "source": [
    "%run scripts/show_solutions.py week05_ex3"
   ]
  },
  {
   "cell_type": "markdown",
   "metadata": {},
   "source": [
    "---\n",
    "## Docstrings\n",
    "\n",
    "As you've probably realised by now, after our first code review workshop, code is written to be readable and understandable to **humans**. The Python interpreter takes care of translating it to machine instructions for the computer.\n",
    "\n",
    "We have already seen examples of **docstrings** -- they are the comments in `'''` triple quotes just below the `def` statement when defining a function. Docstrings simply contain some information about what the function does and how it works.\n",
    "\n",
    "As we saw in Video 3 in Week 4, when you use the function `help(some_function)`, the docstring of `some_function` is displayed.\n",
    "\n",
    "In general, a docstring should consist of:\n",
    "- a brief (1 or 2 sentences) description of what the function does,\n",
    "- a description of all **input arguments** and their **type**,\n",
    "- a description of all **outputs** and their **type**.\n",
    "\n",
    "This is to ensure that anyone using your function knows what type(s) of objects it can be used on, and what type(s) of objects it returns. Here is an example:"
   ]
  },
  {
   "cell_type": "code",
   "execution_count": null,
   "metadata": {
    "scrolled": true
   },
   "outputs": [],
   "source": [
    "def first_and_last(x):\n",
    "    '''\n",
    "    Returns the first and last characters of a string.\n",
    "    \n",
    "    Input:\n",
    "        x (str): the input string.\n",
    "    \n",
    "    Output:\n",
    "        out (str): a new string made of the first and\n",
    "        the last characters of x.\n",
    "    '''\n",
    "    out = x[0] + x[-1]\n",
    "    return out\n",
    "\n",
    "print(first_and_last('Things'))\n",
    "\n",
    "help(first_and_last)"
   ]
  },
  {
   "cell_type": "markdown",
   "metadata": {},
   "source": [
    "---\n",
    "🚩 ***Exercise:*** Write docstrings as above for some of the functions you wrote in the quizzes."
   ]
  },
  {
   "cell_type": "code",
   "execution_count": null,
   "metadata": {},
   "outputs": [],
   "source": []
  },
  {
   "cell_type": "markdown",
   "metadata": {},
   "source": [
    "---\n",
    "## Designing algorithms\n",
    "\n",
    "### Recursion\n",
    "\n",
    "Recursion is a technical name for a procedure or function that **calls itself** in order to provide an answer. We are already quite familiar with the idea of a *recursion relation* in mathematics, and this is really a very similar concept.\n",
    "\n",
    "To illustrate it, here is a reasonable simple recursion relation to define the factorial operation:\n",
    "$$\n",
    "n! = \\left\\{ \\begin{array}{cc}\n",
    "1, \\qquad & \\textrm{if}\\,\\, n=0 \\\\\n",
    "n\\cdot (n-1)! \\qquad& \\textrm{otherwise}\n",
    "\\end{array}\\right.\n",
    "$$\n",
    "\n",
    "Here is how we would program that using a recursive function:"
   ]
  },
  {
   "cell_type": "code",
   "execution_count": null,
   "metadata": {},
   "outputs": [],
   "source": [
    "def fac(n):\n",
    "    '''\n",
    "    Calculate n! for a positive integer n, using a recursive method.\n",
    "    '''\n",
    "    if n == 0:\n",
    "        print('We got to the bottom...')\n",
    "        return 1\n",
    "    else:\n",
    "        # Here, we call the function itself back with a different argument\n",
    "        print(f'Now, n = {n}')\n",
    "        return n * fac(n-1)\n",
    "\n",
    "print(fac(3))\n",
    "\n",
    "import math\n",
    "print(math.factorial(3))"
   ]
  },
  {
   "cell_type": "markdown",
   "metadata": {},
   "source": [
    "Note that, just like in the mathematical expression, we need to specify the initial value explicitly -- otherwise, we would go on forever! Also note that although the output looks like there is a loop somewhere, there isn't -- it's simply the recursive function calling itself over and over until it \"bottoms out\" and finds the initial value. Then, it can \"chain-return\" all these values all the way up to the top again. This is how the return value is computed with the input `3`:\n",
    "\n",
    "```python\n",
    "3 * fac(2)\n",
    "3 * (2 * fac(1))\n",
    "3 * (2 * (1 * fac(0)))   # here, we've bottomed out!\n",
    "3 * (2 * (1 * 1))\n",
    "3 * (2 * 1)\n",
    "3 * 2\n",
    "6\n",
    "```\n",
    "\n",
    "\n",
    "Recursion is an important tool in the Computer Science toolkit as a way to solve problems. Many problems have a simple solution by regarding them as recursive problems, and using a recursive function to solve them (8 Queens problem, Towers of Hanoi, finding greatest common divisor, etc).\n",
    "\n",
    "---\n",
    "🚩 ***Exercise 4:*** Write a **recursive** function `fib_rec()` which takes 3 input arguments:\n",
    "- a positive integer `p`,\n",
    "- a positive integer `q`,\n",
    "- a positive integer `n` greater than 2,\n",
    "\n",
    "and returns the `n`th element of the $(p,q)$-Fibonacci sequence $F(n)$ from the Week 2 workshop, defined by:\n",
    "\n",
    "$$\n",
    "F(1) = F(2) = 1,\\\\\n",
    "F(n) = p F(n-1) + q F(n-2), \\quad\\textrm{for}\\,\\, n > 2.\n",
    "$$\n",
    "\n",
    "Test your function:\n",
    "- `fib_rec(1, 1, 15)` should return `610`\n",
    "- `fib_rec(6, 4, 10)` should return `5330944`\n",
    "- `fib_rec(2, 1, 35)` should return `5168247530883`"
   ]
  },
  {
   "cell_type": "code",
   "execution_count": null,
   "metadata": {},
   "outputs": [],
   "source": []
  },
  {
   "cell_type": "code",
   "execution_count": null,
   "metadata": {
    "tags": [
     "solution_cell"
    ]
   },
   "outputs": [],
   "source": [
    "%run scripts/show_solutions.py week05_ex4"
   ]
  },
  {
   "cell_type": "markdown",
   "metadata": {},
   "source": [
    "You will notice that the last test takes quite a long time to evaluate. This is because for each call to the function, we generate 2 more calls back to the function. For each of these, there is an overhead in the computer -- for recursive methods to be efficient, these calls back to the function have to be well optimized by the language you use.\n",
    "\n",
    "Sadly, Python is not good at optimising recursive functions, and so particularly where there are several calls back to the function they run **very slowly in Python** if at all. It is best to stick with using recursion only for quite simple problems -- it is not a structure that you should rely on in Python.\n",
    "\n",
    "---\n",
    "### A process for problem-solving\n",
    "\n",
    "You have probably realised by now that learning programming is not just learning a language -- it's also learning to translate a mathematical or operational problem into a computational one. This ability is usually called *computational thinking*, and you will continue to develop it as you practise solving complex problems with Python.\n",
    "\n",
    "The section \"How to Design Algorithms\" of [The Algorithm Design Manual](https://www8.cs.umu.se/kurser/TDBA77/VT06/algorithms/BOOK/BOOK3/NODE124.HTM#SECTION02700000000000000000) provides great problem-solving advice, as well as a detailed checklist designed to guide you through this translation process. Here are the important points on that checklist, to check in order:\n",
    "\n",
    "- What is the **end goal** of the problem? What should the final result look like?\n",
    "- What **data** do I have? What object **types** are best suited to store/handle which data?\n",
    "- What should the rough **structure** of the algorithm be? What essential techniques are needed – loops/decisions, for/while...\n",
    "- Can I break the problem down into **sub-tasks**?\n",
    "- Does it have a **recursive** structure – can I do a little bit of it, and leave myself with a problem that looks almost the same?\n",
    "- How do I know when I get an answer – can I check the answer? (sometimes answers that are hard to get are easy to check!)\n",
    "\n",
    "My main piece of advice would probably be: it is always a good idea to start with (or go back to) **pen and paper**, before trying to write any code. Work out the maths, compute a small known example by hand to check your results, draw pictures and diagrams to help you visualise the problem and/or what your algorithm is doing...\n",
    "\n",
    "---\n",
    "**📚 Learn more:**\n",
    "* [Problem solving and algorithms](http://sofia.cs.vt.edu/cs1114-ebooklet/chapter4.html) - This is a great resource, walking through the different steps of designing of an algorithm to solve a problem. The implementation is done with Java, not Python, but the steps and the principles are the same -- for practice, you could try to implement it in Python.\n",
    "* [The Algorithm Design Manual](https://www8.cs.umu.se/kurser/TDBA77/VT06/algorithms/BOOK/BOOK/BOOK.HTM) - The source cited above -- a very complete online book on algorithm design.\n",
    "\n",
    "---\n",
    "### Problem-solving example: the Post Office problem\n",
    "\n",
    "The [Post Office problem](https://en.wikipedia.org/wiki/Nearest_neighbor_search) is a nearest-neighbour search problem. Here is a related exercise:\n",
    "\n",
    "> Consider a $5\\times 5$km square city, with $n$ post offices scattered at different (known) locations, and all roads are laid out in a grid. Produce a map to help the residents find the post office within the shortest walking distance from any point in the city.\n",
    "\n",
    "You are given the following function to create the $n$ post offices at random locations. Run the cell to add it to the namespace."
   ]
  },
  {
   "cell_type": "code",
   "execution_count": null,
   "metadata": {},
   "outputs": [],
   "source": [
    "import numpy as np\n",
    "\n",
    "def create_POs(n):\n",
    "    '''\n",
    "    Create random coordinates for n post offices in the city.\n",
    "    \n",
    "    Input: n (int), the total number of POs.\n",
    "    Output: POs (ndarray), random array of size nx2, each row giving\n",
    "        the (x, y) coordinates for one post office.\n",
    "    '''\n",
    "    # Initialise our random number generator\n",
    "    rng = np.random.default_rng()\n",
    "\n",
    "    # Produce a random array of floats between 0.2 and 4.8 (not too close to city borders)\n",
    "    POs = 0.2 + 4.6*rng.random(size=[n, 2])\n",
    "    return POs"
   ]
  },
  {
   "cell_type": "markdown",
   "metadata": {},
   "source": [
    "Let's have a look at these post offices to get a better idea of what we're working with. It's always a good idea to visualise your data or results."
   ]
  },
  {
   "cell_type": "code",
   "execution_count": null,
   "metadata": {},
   "outputs": [],
   "source": [
    "import matplotlib.pyplot as plt\n",
    "\n",
    "# Create 10 post offices\n",
    "n = 10\n",
    "POs = create_POs(n)\n",
    "\n",
    "# Plot their location\n",
    "fig, ax = plt.subplots(figsize=(8, 8))\n",
    "ax.plot(POs[:, 0], POs[:, 1], 'k*', markersize=15)\n",
    "ax.set_xlim([0, 5])\n",
    "ax.set_ylim([0, 5])\n",
    "plt.show()"
   ]
  },
  {
   "cell_type": "markdown",
   "metadata": {},
   "source": [
    "#### Designing the algorithm\n",
    "\n",
    "Now, the solution -- let's go through the checklist to tackle this problem:\n",
    "\n",
    "- What is the **end goal** of the problem? What should the final result look like?\n",
    "\n",
    "    - We need to make a map of the city.\n",
    "    - Anyone consulting the map should be able to easily choose a post office to walk to.\n",
    "    - We could divide our city map into different areas, to represent the \"catchment areas\" of each post office.\n",
    "\n",
    "- What **data** do I have? What object **types** are best suited to store/handle which data?\n",
    "\n",
    "    - We have the locations of the $n$ post offices on a map (their $(x, y)$ coordinates).\n",
    "    - We know the size and shape of the map (a $5\\times 5$km square).\n",
    "    - We know that all the roads are laid out in a grid, which means that the shortest walking distance from one point to another can be calculated using the [Manhattan distance](https://en.wikipedia.org/wiki/Taxicab_geometry) metric. Numpy has the `np.linalg.norm()` function to help us calculate this, so it may be a good idea to use Numpy arrays to store the coordinate data.\n",
    "\n",
    "- What should the rough **structure** of the algorithm be? What essential techniques are needed – loops/decisions, for/while...\n",
    "    \n",
    "    - One way to produce the map could be to simulate lots of residents at random places in the city, and to find the nearest post office for all of them. We could indicate the nearest post office for each simulated resident with a different colour. (Other algorithms do exist to separate the space into [Voronoi cells](https://en.wikipedia.org/wiki/Voronoi_diagram), but here we choose an approximation/simulation approach.)\n",
    "    - We will need to generate random $(x, y)$ coordinates for all the residents -- `np.random` can help with that.\n",
    "    - We will need to calculate Manhattan distances between points -- again, `np.linalg.norm()` will help. We can loop over each resident and each post office to get all the possible distances.\n",
    "    - We will need to find the closest post office for each resident -- `np.argmin()` can find the index of the smallest value in an array. We can use it to find which post office corresponds to the shortest distance for each resident.\n",
    "    - We will need to display a map -- `matplotlib` will be useful. We'll need to find a way to pick $n$ different colours to draw each cluster of points -- we'll probably have to loop over the post offices to do this.\n",
    "\n",
    "- Can I break the problem down into **sub-tasks**?\n",
    "\n",
    "    - Simulate a fairly large population of residents.\n",
    "    - Calculate the distance between a resident and a post office.\n",
    "    - Find the closest post office for a resident.\n",
    "    - Plot the locations of each post office, and each resident with a colour corresponding to the nearest PO.\n",
    "\n",
    "- Does it have a **recursive** structure – can I do a little bit of it, and leave myself with a problem that looks almost the same?\n",
    "\n",
    "    - No, it doesn't. Here, we need to calculate different distances for all the different residents.\n",
    "    \n",
    "- How do I know when I get an answer – can I check the answer? (sometimes answers that are hard to get are easy to check!)\n",
    "\n",
    "    - We can calculate the distance between a resident and all the post offices, find the shortest one, and keep track of the corresponding post office.\n",
    "    - The final map should help us check that our method is at least roughly correct. We should see clearly defined clusters around each post office, each with a different colour.\n",
    "\n",
    "#### Implementation in Python\n",
    "\n",
    "Now, let's solve our problem, step by step: first, let's write a function to create a city population. We want the residents to be uniformly distributed over the map, so that we get good coverage. Remember to **test at every step** to make sure that you are on the right track -- it will be much easier to find problems if you **test often**!"
   ]
  },
  {
   "cell_type": "code",
   "execution_count": null,
   "metadata": {},
   "outputs": [],
   "source": [
    "def make_residents(pop):\n",
    "    '''\n",
    "    Creates a uniformly distributed population of city\n",
    "    residents on the map.\n",
    "    \n",
    "    Input: pop (int): positive integer, number of residents (population).\n",
    "    \n",
    "    Output: residents (ndarray): Numpy array with pop rows\n",
    "            and 2 columns, each row is the (x, y) coordinates\n",
    "            of 1 resident.\n",
    "    '''\n",
    "    rng = np.random.default_rng()\n",
    "    \n",
    "    # Create random (x, y) coordinates for \"pop\" residents, between 0 and 5\n",
    "    residents = 5 * rng.random(size=[pop, 2])\n",
    "    return residents\n",
    "\n",
    "# A quick test to check that everything looks good for now\n",
    "print(make_residents(5))"
   ]
  },
  {
   "cell_type": "markdown",
   "metadata": {},
   "source": [
    "Next, calculate the Manhattan distance between a resident and a post office. This is the same as the 1-norm of the vector between the 2 points (resident and PO), and we already have a function to do that: [`np.linalg.norm()`](https://numpy.org/doc/stable/reference/generated/numpy.linalg.norm.html?highlight=norm#numpy.linalg.norm). The documentation tells us to specify that we want the 1-norm using the `ord=` keyword argument.\n",
    "\n",
    "So if `res` is a Numpy array with 2 elements representing the $(x_r, y_r)$ location of a resident, and `po` is also an array representing the $(x_{po}, y_{po})$ location of a post office, the command\n",
    "```python\n",
    "np.linalg.norm(res - po, ord=1)\n",
    "```\n",
    "should let us compute the Manhattan distance\n",
    "$$\n",
    "d_1 = \\left|x_r - x_{po}\\right| + \\left|y_r - y_{po}\\right|.\n",
    "$$\n",
    "\n",
    "Now, to get all the distances between all the residents and all the post offices, we can use 2 nested loops: one over the post offices and one over the residents. We need to store all these distances: each resident will have $n$ distances, one to each post office. Our data structure could look like this:\n",
    "\n",
    "\n",
    "| | Dist. to PO 1 | Dist. to PO 2 | Dist. to PO 3 | ... | Dist. to PO $n$ |\n",
    "|--|--|--|--|--|--|\n",
    "| Resident 1 | | | | | |\n",
    "| Resident 2 | | | | | |\n",
    "| Resident 3 | | | | | |\n",
    "| ... | | | | | |\n",
    "\n",
    "Finally, once we have all the distances, we need to find (for each person) which post office is the closest. If we use a NumPy array structure as above, we can use `np.argmin()` to find the index of the smallest distance for each row, which will give us the post office closest to that resident."
   ]
  },
  {
   "cell_type": "code",
   "execution_count": null,
   "metadata": {},
   "outputs": [],
   "source": [
    "def nearest_PO(residents, POs):\n",
    "    '''\n",
    "    Finds the closest post office to all residents.\n",
    "    \n",
    "    Input:\n",
    "        residents (ndarray): array with \"pop\" rows and 2 columns,\n",
    "            each row is the (x, y) coordinates of 1 resident.\n",
    "        POs (ndarray): array with 2 columns, each row is the (x, y)\n",
    "            coordinates of a post office.\n",
    "    \n",
    "    Output:\n",
    "        closest (ndarray): index of the closest post office to each resident,\n",
    "            in terms of Euclidean distance.\n",
    "    '''\n",
    "    # Prepare a list of lists to store all distances\n",
    "    distances = []\n",
    "    \n",
    "    # Loop over post offices\n",
    "    for po in POs:\n",
    "        dist_po = []\n",
    "        # Loop over residents\n",
    "        for res in residents:\n",
    "            # Get the 2-norm of each vector between a resident and a PO\n",
    "            dist_po.append(np.linalg.norm(res - po, ord=1))\n",
    "        \n",
    "        # Add the list of distances for all residents to that PO\n",
    "        distances.append(dist_po)\n",
    "    \n",
    "    # Convert our list of lists to a NumPy array (transpose it)\n",
    "    distances = np.array(distances).T\n",
    "    \n",
    "    # Return the index of the nearest PO, along each row of the array (find the min for each resident)\n",
    "    closest = np.argmin(distances, axis=1)\n",
    "    return closest"
   ]
  },
  {
   "cell_type": "markdown",
   "metadata": {},
   "source": [
    "How can we test this function? It's not very straightforward to test this alone -- let's first make our map-drawing function, as this will give us a way to visualise the results.\n",
    "\n",
    "We can plot each resident in the same colour if they have the same closest post office. We can use Boolean indexing to decide which residents to plot a certain colour -- this will be *a lot faster* than drawing every point separately with a big loop!\n",
    "\n",
    "We will loop over each post office, and draw all the residents with one command for that post office. We'll need to pick a different colour for each PO -- we could choose our colours in advance, and create a list of strings to use it in our call to `.plot()`. Alternatively, we can get a [`colormap` object from matplotlib](https://matplotlib.org/3.1.1/gallery/color/colormap_reference.html), and just pick a colour somewhere along that gradient as we loop over the post offices."
   ]
  },
  {
   "cell_type": "code",
   "execution_count": null,
   "metadata": {},
   "outputs": [],
   "source": [
    "def draw_PO_map(residents, POs):\n",
    "    '''\n",
    "    Display the nearest post office on the map for a population\n",
    "    of residents, in different colours.\n",
    "    \n",
    "    Input:\n",
    "        residents (ndarray): array with \"pop\" rows and 2 columns,\n",
    "            each row is the (x, y) coordinates of 1 resident.\n",
    "        POs (ndarray): array with n rows and 2 columns, each row\n",
    "            is the (x, y) coordinates of 1 post office.\n",
    "    \n",
    "    Output: None\n",
    "    '''\n",
    "    # Get population size\n",
    "    pop = residents.shape[0]\n",
    "    \n",
    "    # Set up a figure\n",
    "    fig, ax = plt.subplots(figsize=(8, 8))\n",
    "    ax.set_aspect('equal')\n",
    "    ax.set_xlim([0, 5])\n",
    "    ax.set_ylim([0, 5])\n",
    "    \n",
    "    # Make a colour map for the post offices\n",
    "    colour_map = plt.get_cmap('gist_rainbow')\n",
    "    colours = []\n",
    "    n = POs.shape[0]\n",
    "    for c in range(n):\n",
    "        # Extract one colour, a fraction of the way into the colour map.\n",
    "        # colour_map(0) gives us the leftmost colour in the 'gist_rainbow' map,\n",
    "        # colour_map(1) gives us the rightmost colour.\n",
    "        colours.append(colour_map(c/n))\n",
    "\n",
    "    # Find the nearest PO for each resident, using the function we made earlier\n",
    "    closest = nearest_PO(residents, POs)\n",
    "    \n",
    "    # Draw each cluster of residents with a different colour\n",
    "    for po in range(n):\n",
    "        # Boolean indexing: extract the rows (the residents) for whom \"closest\" is the current post office\n",
    "        x = residents[closest == po, 0]\n",
    "        y = residents[closest == po, 1]\n",
    "        ax.plot(x, y, '.', color=colours[po], markersize=8)\n",
    "    \n",
    "    # Draw markers for each post office\n",
    "    ax.plot(POs[:, 0], POs[:, 1], 'k*', markersize=15)\n",
    "    plt.show()"
   ]
  },
  {
   "cell_type": "markdown",
   "metadata": {},
   "source": [
    "#### The moment of truth!\n",
    "\n",
    "Let's use all our functions to solve the task now -- finally!"
   ]
  },
  {
   "cell_type": "code",
   "execution_count": null,
   "metadata": {},
   "outputs": [],
   "source": [
    "# Decide how many residents we want, and create them\n",
    "pop = 10000\n",
    "residents = make_residents(pop)\n",
    "\n",
    "# Open our post offices across the city\n",
    "n = 30\n",
    "POs = create_POs(n)\n",
    "\n",
    "# Now, draw the map!\n",
    "draw_PO_map(residents, POs)"
   ]
  },
  {
   "cell_type": "markdown",
   "metadata": {},
   "source": [
    "That seems to work! 🎉\n",
    "\n",
    "This is not the only way to do this, or even to structure your code for this particular solution. You could build your loops the other way around in `nearest_PO()` for example, or even not use loops at all.\n",
    "\n",
    "---\n",
    "🚩 ***Exercise 5:*** Some ideas you could investigate -- the solution for the last question will be released.\n",
    "\n",
    "- You can try changing the number of post offices to see the influence on the results. Remember that the post office locations are created randomly, so you'll get a different map every time.\n",
    "\n",
    "- You can also try changing the Manhattan distance to the Euclidean distance (the 2-norm), and observe the results. This would be fine to use if your residents could fly, for example -- it's the direct path which doesn't require them to use the roads. The choice of distance metric could be an input parameter to your function `nearest_PO()`.\n",
    "\n",
    "- With the Euclidean distance, you should get the [Voronoi tesselation](https://en.wikipedia.org/wiki/Voronoi_diagram). We will meet SciPy in a couple of weeks, but in the meantime, you could try to use it to [draw the actual Voronoi diagram](https://docs.scipy.org/doc/scipy/reference/generated/scipy.spatial.voronoi_plot_2d.html) on top of your simulation results here -- the boundaries should match!\n",
    "\n",
    "- If the population was uniformly distributed on the map like this, assuming that the average person walks at a speed of around 5km per hour, can you *estimate* (and visualise) the average time it takes a resident to walk to the nearest post office, as a function of the total number $n$ of post offices in the city? Estimate this with the simulation results, not analytically."
   ]
  },
  {
   "cell_type": "code",
   "execution_count": null,
   "metadata": {},
   "outputs": [],
   "source": []
  },
  {
   "cell_type": "code",
   "execution_count": null,
   "metadata": {
    "tags": [
     "solution_cell"
    ]
   },
   "outputs": [],
   "source": [
    "%run scripts/show_solutions.py week05_ex5"
   ]
  }
 ],
 "metadata": {
  "kernelspec": {
   "display_name": "Python 3",
   "language": "python",
   "name": "python3"
  },
  "language_info": {
   "codemirror_mode": {
    "name": "ipython",
    "version": 3
   },
   "file_extension": ".py",
   "mimetype": "text/x-python",
   "name": "python",
   "nbconvert_exporter": "python",
   "pygments_lexer": "ipython3",
   "version": "3.7.6"
  }
 },
 "nbformat": 4,
 "nbformat_minor": 4
}
